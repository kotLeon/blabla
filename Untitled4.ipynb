{
 "cells": [
  {
   "cell_type": "code",
   "execution_count": 1,
   "metadata": {
    "collapsed": true
   },
   "outputs": [],
   "source": [
    "import pandas as pd "
   ]
  },
  {
   "cell_type": "code",
   "execution_count": 3,
   "metadata": {},
   "outputs": [
    {
     "name": "stdout",
     "output_type": "stream",
     "text": [
      "                              Country         Region\n",
      "0                             Algeria         AFRICA\n",
      "1                              Angola         AFRICA\n",
      "2                               Benin         AFRICA\n",
      "3                            Botswana         AFRICA\n",
      "4                             Burkina         AFRICA\n",
      "5                             Burundi         AFRICA\n",
      "6                            Cameroon         AFRICA\n",
      "7                          Cape Verde         AFRICA\n",
      "8            Central African Republic         AFRICA\n",
      "9                                Chad         AFRICA\n",
      "10                            Comoros         AFRICA\n",
      "11                              Congo         AFRICA\n",
      "12      Congo, Democratic Republic of         AFRICA\n",
      "13                           Djibouti         AFRICA\n",
      "14                              Egypt         AFRICA\n",
      "15                  Equatorial Guinea         AFRICA\n",
      "16                            Eritrea         AFRICA\n",
      "17                           Ethiopia         AFRICA\n",
      "18                              Gabon         AFRICA\n",
      "19                             Gambia         AFRICA\n",
      "20                              Ghana         AFRICA\n",
      "21                             Guinea         AFRICA\n",
      "22                      Guinea-Bissau         AFRICA\n",
      "23                        Ivory Coast         AFRICA\n",
      "24                              Kenya         AFRICA\n",
      "25                            Lesotho         AFRICA\n",
      "26                            Liberia         AFRICA\n",
      "27                              Libya         AFRICA\n",
      "28                         Madagascar         AFRICA\n",
      "29                             Malawi         AFRICA\n",
      "..                                ...            ...\n",
      "164                       Saint Lucia  NORTH AMERICA\n",
      "165  Saint Vincent and the Grenadines  NORTH AMERICA\n",
      "166               Trinidad and Tobago  NORTH AMERICA\n",
      "167                     United States  NORTH AMERICA\n",
      "168                         Australia        OCEANIA\n",
      "169                              Fiji        OCEANIA\n",
      "170                          Kiribati        OCEANIA\n",
      "171                  Marshall Islands        OCEANIA\n",
      "172                        Micronesia        OCEANIA\n",
      "173                             Nauru        OCEANIA\n",
      "174                       New Zealand        OCEANIA\n",
      "175                             Palau        OCEANIA\n",
      "176                  Papua New Guinea        OCEANIA\n",
      "177                             Samoa        OCEANIA\n",
      "178                   Solomon Islands        OCEANIA\n",
      "179                             Tonga        OCEANIA\n",
      "180                            Tuvalu        OCEANIA\n",
      "181                           Vanuatu        OCEANIA\n",
      "182                         Argentina  SOUTH AMERICA\n",
      "183                           Bolivia  SOUTH AMERICA\n",
      "184                            Brazil  SOUTH AMERICA\n",
      "185                             Chile  SOUTH AMERICA\n",
      "186                          Colombia  SOUTH AMERICA\n",
      "187                           Ecuador  SOUTH AMERICA\n",
      "188                            Guyana  SOUTH AMERICA\n",
      "189                          Paraguay  SOUTH AMERICA\n",
      "190                              Peru  SOUTH AMERICA\n",
      "191                          Suriname  SOUTH AMERICA\n",
      "192                           Uruguay  SOUTH AMERICA\n",
      "193                         Venezuela  SOUTH AMERICA\n",
      "\n",
      "[194 rows x 2 columns]\n"
     ]
    }
   ],
   "source": [
    "url=\"https://raw.githubusercontent.com/cs109/2014_data/master/countries.csv\"\n",
    "dane=pd.read_csv(url)\n",
    "print(dane)\n",
    "\n"
   ]
  },
  {
   "cell_type": "code",
   "execution_count": null,
   "metadata": {
    "collapsed": true
   },
   "outputs": [],
   "source": []
  }
 ],
 "metadata": {
  "kernelspec": {
   "display_name": "Python 3",
   "language": "python",
   "name": "python3"
  },
  "language_info": {
   "codemirror_mode": {
    "name": "ipython",
    "version": 3
   },
   "file_extension": ".py",
   "mimetype": "text/x-python",
   "name": "python",
   "nbconvert_exporter": "python",
   "pygments_lexer": "ipython3",
   "version": "3.6.0"
  }
 },
 "nbformat": 4,
 "nbformat_minor": 2
}
